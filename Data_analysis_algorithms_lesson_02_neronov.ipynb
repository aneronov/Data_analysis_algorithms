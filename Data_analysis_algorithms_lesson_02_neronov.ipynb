{
 "cells": [
  {
   "cell_type": "markdown",
   "metadata": {
    "id": "JkQFTgKJiqsy"
   },
   "source": [
    "# Урок 2."
   ]
  },
  {
   "cell_type": "markdown",
   "metadata": {},
   "source": [
    "## Домашнее задание <a class='anchor' id='hw'>"
   ]
  },
  {
   "cell_type": "markdown",
   "metadata": {},
   "source": [
    "1. Постройте график зависимости весов всех признаков от lambda в L2-регуляризации на основе данных из урока.\n",
    "2. Можно ли к одному и тому же признаку применить сразу и нормализацию, и стандартизацию?\n",
    "3. Напишите функцию наподобие gradient_descent_reg_l2, но для применения L1-регуляризации."
   ]
  },
  {
   "cell_type": "code",
   "execution_count": 25,
   "metadata": {
    "id": "c7NGnJrtiqs_"
   },
   "outputs": [],
   "source": [
    "import numpy as np\n",
    "from sklearn import datasets\n",
    "import matplotlib.pyplot as plt\n",
    "\n",
    "%matplotlib inline\n",
    "import warnings\n",
    "warnings.filterwarnings('ignore')"
   ]
  },
  {
   "cell_type": "markdown",
   "metadata": {},
   "source": [
    "__Задача:__ предсказание баллов ЕГЭ ученика<br>\n",
    "1.Постройте график зависимости весов всех признаков от lambda в L2-регуляризации на основе данных из урока."
   ]
  },
  {
   "cell_type": "code",
   "execution_count": 26,
   "metadata": {
    "colab": {},
    "colab_type": "code",
    "id": "_n6il-AZaLuA"
   },
   "outputs": [],
   "source": [
    "X = np.array([[   1,    1,  500,    1],\n",
    "              [   1,    1,  700,    1],\n",
    "              [   1,    2,  750,    2],\n",
    "              [   1,    5,  600,    1],\n",
    "              [   1,    3, 1450,    2],\n",
    "              [   1,    0,  800,    1],\n",
    "              [   1,    5, 1500,    3],\n",
    "              [   1,   10, 2000,    3],\n",
    "              [   1,    1,  450,    1],\n",
    "              [   1,    2, 1000,    2]])"
   ]
  },
  {
   "cell_type": "code",
   "execution_count": 27,
   "metadata": {
    "colab": {},
    "colab_type": "code",
    "id": "x8yoci01ni-t"
   },
   "outputs": [],
   "source": [
    "y = [45, 55, 50, 55, 60, 35, 75, 80, 50, 60]"
   ]
  },
  {
   "cell_type": "code",
   "execution_count": 28,
   "metadata": {},
   "outputs": [],
   "source": [
    "def standard_scale(X):\n",
    "    mean = X.mean()\n",
    "    std = X.std()\n",
    "    return (X - mean) / std"
   ]
  },
  {
   "cell_type": "code",
   "execution_count": 29,
   "metadata": {
    "colab": {},
    "colab_type": "code",
    "id": "M57-Pzl_f_rF"
   },
   "outputs": [
    {
     "data": {
      "text/plain": [
       "array([[ 1.        , -0.70710678, -0.97958969, -0.89625816],\n",
       "       [ 1.        , -0.70710678, -0.56713087, -0.89625816],\n",
       "       [ 1.        , -0.35355339, -0.46401617,  0.38411064],\n",
       "       [ 1.        ,  0.70710678, -0.77336028, -0.89625816],\n",
       "       [ 1.        ,  0.        ,  0.97958969,  0.38411064],\n",
       "       [ 1.        , -1.06066017, -0.36090146, -0.89625816],\n",
       "       [ 1.        ,  0.70710678,  1.08270439,  1.66447944],\n",
       "       [ 1.        ,  2.47487373,  2.11385144,  1.66447944],\n",
       "       [ 1.        , -0.70710678, -1.08270439, -0.89625816],\n",
       "       [ 1.        , -0.35355339,  0.05155735,  0.38411064]])"
      ]
     },
     "execution_count": 29,
     "metadata": {},
     "output_type": "execute_result"
    }
   ],
   "source": [
    "X_st = X.copy().astype(np.float64)\n",
    "X_st[:, 1] = standard_scale(X_st[:, 1])\n",
    "X_st[:, 2] = standard_scale(X_st[:, 2])\n",
    "X_st[:, 3] = standard_scale(X_st[:, 3])\n",
    "\n",
    "X_st"
   ]
  },
  {
   "cell_type": "code",
   "execution_count": 30,
   "metadata": {
    "colab": {},
    "colab_type": "code",
    "id": "VDpN7UxYnrcS"
   },
   "outputs": [],
   "source": [
    "def calc_mse(y, y_pred):\n",
    "    err = np.mean((y - y_pred)**2)\n",
    "    return err"
   ]
  },
  {
   "cell_type": "code",
   "execution_count": 31,
   "metadata": {},
   "outputs": [
    {
     "data": {
      "text/plain": [
       "array([ 0.14996482, -0.14651295,  0.49994537,  0.40158833])"
      ]
     },
     "execution_count": 31,
     "metadata": {},
     "output_type": "execute_result"
    }
   ],
   "source": [
    "W = np.random.randn(X.shape[1])\n",
    "W"
   ]
  },
  {
   "cell_type": "code",
   "execution_count": 121,
   "metadata": {
    "colab": {},
    "colab_type": "code",
    "id": "7AVoe1Mswjni"
   },
   "outputs": [],
   "source": [
    "def gradient_descent_reg_l2(X, y, iterations, eta=1e-4, reg=1e-8):\n",
    "    W = np.random.randn(X.shape[1])\n",
    "    n = X.shape[0]\n",
    "    \n",
    "    for i in range(0, iterations):\n",
    "        y_pred = np.dot(X, W)\n",
    "        err = calc_mse(y, y_pred)\n",
    "        \n",
    "        dQ = 2/n * X.T @ (y_pred - y) # градиент функции ошибки\n",
    "        dReg = reg * W # градиент регуляризации\n",
    "        \n",
    "        W -= eta * (dQ + dReg)\n",
    "        \n",
    "        #if i % (iterations / 10) == 0:\n",
    "            #print(f'Iter: {i}, weights: {W}, error {err}')\n",
    "    \n",
    "    print(f'Final MSE: {calc_mse(y, np.dot(X, W))}')\n",
    "    return list(W)"
   ]
  },
  {
   "cell_type": "code",
   "execution_count": 122,
   "metadata": {
    "colab": {
     "base_uri": "https://localhost:8080/",
     "height": 207
    },
    "colab_type": "code",
    "id": "vLJL6j8Lw6OA",
    "outputId": "dac9ef42-5966-4404-9346-aeb18cca83c6",
    "scrolled": true
   },
   "outputs": [
    {
     "name": "stdout",
     "output_type": "stream",
     "text": [
      "Final MSE: 24.904627646688848\n"
     ]
    },
    {
     "data": {
      "text/plain": [
       "[56.49717514124293, 6.302345877845559, -0.35437787173643426, 6.569897298555164]"
      ]
     },
     "execution_count": 122,
     "metadata": {},
     "output_type": "execute_result"
    }
   ],
   "source": [
    "gradient_descent_reg_l2(X_st, y, iterations=5000, eta=1e-1, reg=1e-4)"
   ]
  },
  {
   "cell_type": "code",
   "execution_count": 123,
   "metadata": {},
   "outputs": [],
   "source": [
    "reg_arr = np.logspace(-10, 1, 50) #сгенирировали массив для лямбда\n",
    "W_arr = np.zeros((50, X_st.shape[1])) #массив из нулей,потом будем заполнять значениями весов исходя из расчета функции \n",
    "                                      #gradient_descent_reg_l2 для каждого лямбда"
   ]
  },
  {
   "cell_type": "code",
   "execution_count": 124,
   "metadata": {},
   "outputs": [
    {
     "data": {
      "text/plain": [
       "array([1.00000000e-10, 1.67683294e-10, 2.81176870e-10, 4.71486636e-10,\n",
       "       7.90604321e-10, 1.32571137e-09, 2.22299648e-09, 3.72759372e-09,\n",
       "       6.25055193e-09, 1.04811313e-08, 1.75751062e-08, 2.94705170e-08,\n",
       "       4.94171336e-08, 8.28642773e-08, 1.38949549e-07, 2.32995181e-07,\n",
       "       3.90693994e-07, 6.55128557e-07, 1.09854114e-06, 1.84206997e-06,\n",
       "       3.08884360e-06, 5.17947468e-06, 8.68511374e-06, 1.45634848e-05,\n",
       "       2.44205309e-05, 4.09491506e-05, 6.86648845e-05, 1.15139540e-04,\n",
       "       1.93069773e-04, 3.23745754e-04, 5.42867544e-04, 9.10298178e-04,\n",
       "       1.52641797e-03, 2.55954792e-03, 4.29193426e-03, 7.19685673e-03,\n",
       "       1.20679264e-02, 2.02358965e-02, 3.39322177e-02, 5.68986603e-02,\n",
       "       9.54095476e-02, 1.59985872e-01, 2.68269580e-01, 4.49843267e-01,\n",
       "       7.54312006e-01, 1.26485522e+00, 2.12095089e+00, 3.55648031e+00,\n",
       "       5.96362332e+00, 1.00000000e+01])"
      ]
     },
     "execution_count": 124,
     "metadata": {},
     "output_type": "execute_result"
    }
   ],
   "source": [
    "reg_arr"
   ]
  },
  {
   "cell_type": "code",
   "execution_count": 125,
   "metadata": {},
   "outputs": [
    {
     "name": "stdout",
     "output_type": "stream",
     "text": [
      "Final MSE: 24.904618876908394\n",
      "Final MSE: 24.9046188769084\n",
      "Final MSE: 24.90461887690838\n",
      "Final MSE: 24.904618876908376\n",
      "Final MSE: 24.904618876908383\n",
      "Final MSE: 24.9046188769084\n",
      "Final MSE: 24.904618876908394\n",
      "Final MSE: 24.904618876908394\n",
      "Final MSE: 24.904618876908422\n",
      "Final MSE: 24.90461887690846\n",
      "Final MSE: 24.904618876908668\n",
      "Final MSE: 24.904618876909147\n",
      "Final MSE: 24.904618876910526\n",
      "Final MSE: 24.904618876914398\n",
      "Final MSE: 24.90461887692532\n",
      "Final MSE: 24.904618876955993\n",
      "Final MSE: 24.904618877042267\n",
      "Final MSE: 24.90461887728486\n",
      "Final MSE: 24.90461887796689\n",
      "Final MSE: 24.90461887988467\n",
      "Final MSE: 24.90461888527698\n",
      "Final MSE: 24.904618900438884\n",
      "Final MSE: 24.904618943070282\n",
      "Final MSE: 24.904619062938433\n",
      "Final MSE: 24.904619399973\n",
      "Final MSE: 24.904620347603334\n",
      "Final MSE: 24.90462301196539\n",
      "Final MSE: 24.90463050280349\n",
      "Final MSE: 24.904651561859687\n",
      "Final MSE: 24.904710758812346\n",
      "Final MSE: 24.904877130483275\n",
      "Final MSE: 24.905344569493582\n",
      "Final MSE: 24.906657211157572\n",
      "Final MSE: 24.910340148268446\n",
      "Final MSE: 24.92065885356951\n",
      "Final MSE: 24.949502085832602\n",
      "Final MSE: 25.029822365173438\n",
      "Final MSE: 25.252159113334418\n",
      "Final MSE: 25.86197408902841\n",
      "Final MSE: 27.51172820101101\n",
      "Final MSE: 31.886521981950256\n",
      "Final MSE: 43.154115566935374\n",
      "Final MSE: 70.9305495940578\n",
      "Final MSE: 134.96423891398757\n",
      "Final MSE: 268.59687577356885\n",
      "Final MSE: 511.72974719493925\n",
      "Final MSE: 884.6108516366342\n",
      "Final MSE: 1357.753343576644\n",
      "Final MSE: 1856.165398112022\n",
      "Final MSE: 2302.3365023435517\n"
     ]
    }
   ],
   "source": [
    "for i in range(len(reg_arr)):\n",
    "    W_arr[i, :] = gradient_descent_reg_l2(X_st, y, iterations=5000, eta=1e-1, reg=reg_arr[i]) \n",
    "    #заполяем массив весов исходя из изменений лямбда\n",
    "    "
   ]
  },
  {
   "cell_type": "code",
   "execution_count": 126,
   "metadata": {},
   "outputs": [
    {
     "data": {
      "text/plain": [
       "array([[ 5.65000000e+01,  6.30309349e+00, -3.56388847e-01,\n",
       "         6.57147642e+00],\n",
       "       [ 5.65000000e+01,  6.30309349e+00, -3.56388846e-01,\n",
       "         6.57147642e+00],\n",
       "       [ 5.65000000e+01,  6.30309349e+00, -3.56388844e-01,\n",
       "         6.57147642e+00],\n",
       "       [ 5.65000000e+01,  6.30309349e+00, -3.56388840e-01,\n",
       "         6.57147642e+00],\n",
       "       [ 5.65000000e+01,  6.30309349e+00, -3.56388833e-01,\n",
       "         6.57147641e+00],\n",
       "       [ 5.65000000e+01,  6.30309348e+00, -3.56388823e-01,\n",
       "         6.57147640e+00],\n",
       "       [ 5.64999999e+01,  6.30309348e+00, -3.56388805e-01,\n",
       "         6.57147639e+00],\n",
       "       [ 5.64999999e+01,  6.30309346e+00, -3.56388774e-01,\n",
       "         6.57147637e+00],\n",
       "       [ 5.64999998e+01,  6.30309345e+00, -3.56388723e-01,\n",
       "         6.57147633e+00],\n",
       "       [ 5.64999997e+01,  6.30309341e+00, -3.56388638e-01,\n",
       "         6.57147626e+00],\n",
       "       [ 5.64999995e+01,  6.30309336e+00, -3.56388496e-01,\n",
       "         6.57147615e+00],\n",
       "       [ 5.64999992e+01,  6.30309327e+00, -3.56388256e-01,\n",
       "         6.57147596e+00],\n",
       "       [ 5.64999986e+01,  6.30309312e+00, -3.56387855e-01,\n",
       "         6.57147564e+00],\n",
       "       [ 5.64999977e+01,  6.30309287e+00, -3.56387182e-01,\n",
       "         6.57147512e+00],\n",
       "       [ 5.64999961e+01,  6.30309245e+00, -3.56386054e-01,\n",
       "         6.57147423e+00],\n",
       "       [ 5.64999934e+01,  6.30309175e+00, -3.56384161e-01,\n",
       "         6.57147274e+00],\n",
       "       [ 5.64999890e+01,  6.30309057e+00, -3.56380989e-01,\n",
       "         6.57147025e+00],\n",
       "       [ 5.64999815e+01,  6.30308859e+00, -3.56375668e-01,\n",
       "         6.57146607e+00],\n",
       "       [ 5.64999690e+01,  6.30308528e+00, -3.56366747e-01,\n",
       "         6.57145907e+00],\n",
       "       [ 5.64999480e+01,  6.30307972e+00, -3.56351788e-01,\n",
       "         6.57144732e+00],\n",
       "       [ 5.64999127e+01,  6.30307039e+00, -3.56326703e-01,\n",
       "         6.57142762e+00],\n",
       "       [ 5.64998537e+01,  6.30305476e+00, -3.56284642e-01,\n",
       "         6.57139460e+00],\n",
       "       [ 5.64997546e+01,  6.30302854e+00, -3.56214114e-01,\n",
       "         6.57133921e+00],\n",
       "       [ 5.64995886e+01,  6.30298458e+00, -3.56095857e-01,\n",
       "         6.57124635e+00],\n",
       "       [ 5.64993101e+01,  6.30291087e+00, -3.55897574e-01,\n",
       "         6.57109065e+00],\n",
       "       [ 5.64988432e+01,  6.30278729e+00, -3.55565130e-01,\n",
       "         6.57082960e+00],\n",
       "       [ 5.64980603e+01,  6.30258009e+00, -3.55007799e-01,\n",
       "         6.57039195e+00],\n",
       "       [ 5.64967475e+01,  6.30223274e+00, -3.54073593e-01,\n",
       "         6.56965836e+00],\n",
       "       [ 5.64945463e+01,  6.30165052e+00, -3.52508050e-01,\n",
       "         6.56842902e+00],\n",
       "       [ 5.64908557e+01,  6.30067492e+00, -3.49885609e-01,\n",
       "         6.56636977e+00],\n",
       "       [ 5.64846682e+01,  6.29904090e+00, -3.45495825e-01,\n",
       "         6.56292275e+00],\n",
       "       [ 5.64742958e+01,  6.29630624e+00, -3.38156213e-01,\n",
       "         6.55715951e+00],\n",
       "       [ 5.64569116e+01,  6.29173556e+00, -3.25908523e-01,\n",
       "         6.54754259e+00],\n",
       "       [ 5.64277852e+01,  6.28411277e+00, -3.05537182e-01,\n",
       "         6.53154762e+00],\n",
       "       [ 5.63790125e+01,  6.27144562e+00, -2.71837059e-01,\n",
       "         6.50508900e+00],\n",
       "       [ 5.62974178e+01,  6.25052059e+00, -2.16584395e-01,\n",
       "         6.46171301e+00],\n",
       "       [ 5.61611258e+01,  6.21628611e+00, -1.27314535e-01,\n",
       "         6.39163924e+00],\n",
       "       [ 5.59340621e+01,  6.16113033e+00,  1.35434793e-02,\n",
       "         6.28107500e+00],\n",
       "       [ 5.55574070e+01,  6.07434732e+00,  2.27670934e-01,\n",
       "         6.11294593e+00],\n",
       "       [ 5.49370770e+01,  5.94246431e+00,  5.35249274e-01,\n",
       "         5.87104856e+00],\n",
       "       [ 5.39274053e+01,  5.75132674e+00,  9.42293131e-01,\n",
       "         5.54905352e+00],\n",
       "       [ 5.23151570e+01,  5.49009725e+00,  1.42410393e+00,\n",
       "         5.16077494e+00],\n",
       "       [ 4.98177117e+01,  5.15527726e+00,  1.91809691e+00,\n",
       "         4.74006735e+00],\n",
       "       [ 4.61253997e+01,  4.75147307e+00,  2.33898582e+00,\n",
       "         4.32130696e+00],\n",
       "       [ 4.10265793e+01,  4.28738774e+00,  2.60866502e+00,\n",
       "         3.91318301e+00],\n",
       "       [ 3.46110294e+01,  3.76987341e+00,  2.67884559e+00,\n",
       "         3.49255866e+00],\n",
       "       [ 2.74208558e+01,  3.20364287e+00,  2.53936165e+00,\n",
       "         3.02637220e+00],\n",
       "       [ 2.03366149e+01,  2.60218191e+00,  2.22071573e+00,\n",
       "         2.50351370e+00],\n",
       "       [ 1.41895210e+01,  2.00041675e+00,  1.79127725e+00,\n",
       "         1.95235605e+00],\n",
       "       [ 9.41666667e+00,  1.44984507e+00,  1.33835494e+00,\n",
       "         1.42938586e+00]])"
      ]
     },
     "execution_count": 126,
     "metadata": {},
     "output_type": "execute_result"
    }
   ],
   "source": [
    "W_arr\n"
   ]
  },
  {
   "cell_type": "code",
   "execution_count": 119,
   "metadata": {},
   "outputs": [
    {
     "data": {
      "image/png": "[encoded data removed]",
      "text/plain": [
       "<Figure size 432x288 with 1 Axes>"
      ]
     },
     "metadata": {
      "needs_background": "light"
     },
     "output_type": "display_data"
    }
   ],
   "source": [
    "for i in range(4):\n",
    "    plt.plot(reg_arr, W_arr[:, i])"
   ]
  },
  {
   "cell_type": "markdown",
   "metadata": {},
   "source": [
    "При увеличении лямда мы видим, что веса признаков стремятся к значению чуть более 1, вне зависимости имели ли веса отрицательные значения или положительные. Или же можно сделать вывод, что с уменьшением значения лямбда веса всё сильнее отличаются друг от друга и тем самым улучшается результат нашей модели, так как среднеквадратичная ошибка уменьшается."
   ]
  },
  {
   "cell_type": "markdown",
   "metadata": {},
   "source": [
    "2. Можно ли к одному и тому же признаку применить сразу и нормализацию, и стандартизацию?"
   ]
  },
  {
   "cell_type": "markdown",
   "metadata": {},
   "source": [
    "**Ответ:** применить к признаку одновременно нельзя, а если применить сначала нормализацию, а потом стандартизацию, то сам факт нормализации признака исчезнет (и наоборот). Всё это следует из определения данных признаков масштабирования:\n",
    "\n",
    "**Нормализация данных** — метод предобработки числовых признаков в обучающих наборах данных с целью приведения их к некоторой общей шкале без потери информации о различии диапазонов. (шкала от 0 до 1)\n",
    "\n",
    "**Стандартизация** — метод предобработки с целью приведения данных к единому формату и представлению. (М=0, std=1) Значения признаков могут быть положительными и отрицательными"
   ]
  },
  {
   "cell_type": "markdown",
   "metadata": {},
   "source": [
    "3. Напишите функцию наподобие gradient_descent_reg_l2, но для применения L1-регуляризации."
   ]
  },
  {
   "cell_type": "code",
   "execution_count": null,
   "metadata": {},
   "outputs": [],
   "source": []
  },
  {
   "cell_type": "code",
   "execution_count": 129,
   "metadata": {
    "colab": {},
    "colab_type": "code",
    "id": "7AVoe1Mswjni"
   },
   "outputs": [],
   "source": [
    "def gradient_descent_reg_l1(X, y, iterations, eta=1e-4, reg=1e-8):\n",
    "    W = np.random.randn(X.shape[1])\n",
    "    n = X.shape[0]\n",
    "    \n",
    "    for i in range(0, iterations):\n",
    "        y_pred = np.dot(X, W)\n",
    "        err = calc_mse(y, y_pred)\n",
    "        \n",
    "        dQ = 2/n * X.T @ (y_pred - y) # градиент функции ошибки\n",
    "        dReg = reg * W/abs(W) # градиент регуляризации\n",
    "        \n",
    "        W -= eta * (dQ + dReg)\n",
    "        \n",
    "        if i % (iterations / 10) == 0:\n",
    "            print(f'Iter: {i}, weights: {W}, error {err}')\n",
    "    \n",
    "    print(f'Final MSE: {calc_mse(y, np.dot(X, W))}')\n",
    "    return W"
   ]
  },
  {
   "cell_type": "code",
   "execution_count": 130,
   "metadata": {},
   "outputs": [
    {
     "name": "stdout",
     "output_type": "stream",
     "text": [
      "Iter: 0, weights: [11.373748    1.44997835  1.53528948  2.74459793], error 3373.580610660244\n",
      "Iter: 500, weights: [56.49995     6.30286712 -0.35567709  6.57094628], error 24.904618967625407\n",
      "Iter: 1000, weights: [56.49995     6.30289122 -0.35579345  6.57104233], error 24.90461894099698\n",
      "Iter: 1500, weights: [56.49995     6.30289122 -0.35579346  6.57104233], error 24.90461894099616\n",
      "Iter: 2000, weights: [56.49995     6.30289122 -0.35579346  6.57104233], error 24.90461894099619\n",
      "Iter: 2500, weights: [56.49995     6.30289122 -0.35579346  6.57104233], error 24.90461894099619\n",
      "Iter: 3000, weights: [56.49995     6.30289122 -0.35579346  6.57104233], error 24.90461894099619\n",
      "Iter: 3500, weights: [56.49995     6.30289122 -0.35579346  6.57104233], error 24.90461894099619\n",
      "Iter: 4000, weights: [56.49995     6.30289122 -0.35579346  6.57104233], error 24.90461894099619\n",
      "Iter: 4500, weights: [56.49995     6.30289122 -0.35579346  6.57104233], error 24.90461894099619\n",
      "Final MSE: 24.90461894099619\n"
     ]
    },
    {
     "data": {
      "text/plain": [
       "array([56.49995   ,  6.30289122, -0.35579346,  6.57104233])"
      ]
     },
     "execution_count": 130,
     "metadata": {},
     "output_type": "execute_result"
    }
   ],
   "source": [
    "gradient_descent_reg_l1(X_st, y, iterations=5000, eta=1e-1, reg=1e-4)"
   ]
  },
  {
   "cell_type": "code",
   "execution_count": null,
   "metadata": {},
   "outputs": [],
   "source": []
  }
 ],
 "metadata": {
  "colab": {
   "collapsed_sections": [
    "Ws1-N-_Qiqus",
    "Lq5zA2Itiqu3"
   ],
   "name": "Lesson_2.ipynb",
   "provenance": []
  },
  "kernelspec": {
   "display_name": "Python 3 (ipykernel)",
   "language": "python",
   "name": "python3"
  },
  "language_info": {
   "codemirror_mode": {
    "name": "ipython",
    "version": 3
   },
   "file_extension": ".py",
   "mimetype": "text/x-python",
   "name": "python",
   "nbconvert_exporter": "python",
   "pygments_lexer": "ipython3",
   "version": "3.9.12"
  }
 },
 "nbformat": 4,
 "nbformat_minor": 1
}
